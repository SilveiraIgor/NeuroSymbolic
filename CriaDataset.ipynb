{
 "cells": [
  {
   "cell_type": "code",
   "execution_count": 1,
   "id": "697d829d-f88e-42ac-a67f-81280f2805c2",
   "metadata": {
    "tags": []
   },
   "outputs": [],
   "source": [
    "import csv\n",
    "import pandas as pd"
   ]
  },
  {
   "cell_type": "code",
   "execution_count": 2,
   "id": "61c6edb3-5d88-430b-8e8f-0612c3d91fca",
   "metadata": {
    "tags": []
   },
   "outputs": [
    {
     "name": "stdout",
     "output_type": "stream",
     "text": [
      "Tamanho dos datasets: ((63, 28), (63, 28))\n"
     ]
    }
   ],
   "source": [
    "dfA = pd.read_csv(\"FB - A - arrumado.csv\")\n",
    "dfB = pd.read_csv(\"FB - B - arrumado.csv\")\n",
    "print(f\"Tamanho dos datasets: {dfA.shape, dfB.shape}\")"
   ]
  },
  {
   "cell_type": "code",
   "execution_count": 3,
   "id": "a0365599-89f4-42dc-96be-653155a80267",
   "metadata": {
    "tags": []
   },
   "outputs": [
    {
     "data": {
      "text/html": [
       "<div>\n",
       "<style scoped>\n",
       "    .dataframe tbody tr th:only-of-type {\n",
       "        vertical-align: middle;\n",
       "    }\n",
       "\n",
       "    .dataframe tbody tr th {\n",
       "        vertical-align: top;\n",
       "    }\n",
       "\n",
       "    .dataframe thead th {\n",
       "        text-align: right;\n",
       "    }\n",
       "</style>\n",
       "<table border=\"1\" class=\"dataframe\">\n",
       "  <thead>\n",
       "    <tr style=\"text-align: right;\">\n",
       "      <th></th>\n",
       "      <th>id redação</th>\n",
       "      <th>id prompt</th>\n",
       "      <th>redação</th>\n",
       "      <th>Sintaxe</th>\n",
       "      <th>Desvios</th>\n",
       "      <th>nota</th>\n",
       "      <th>Tema</th>\n",
       "      <th>Tipologia</th>\n",
       "      <th>Conclusão</th>\n",
       "      <th>Repertório</th>\n",
       "      <th>...</th>\n",
       "      <th>Elementos coesivos</th>\n",
       "      <th>Repetições</th>\n",
       "      <th>Inadequações</th>\n",
       "      <th>Monobloco?</th>\n",
       "      <th>nota.3</th>\n",
       "      <th>Direitos humanos</th>\n",
       "      <th>Aderência</th>\n",
       "      <th>Elementos</th>\n",
       "      <th>Condicional</th>\n",
       "      <th>nota.4</th>\n",
       "    </tr>\n",
       "  </thead>\n",
       "  <tbody>\n",
       "    <tr>\n",
       "      <th>0</th>\n",
       "      <td>103.html</td>\n",
       "      <td>a-cultura-do-cancelamento-nas-redes-sociais</td>\n",
       "      <td>['Infelizmente muitos usuários anônimos, julga...</td>\n",
       "      <td>Sintaxe regular</td>\n",
       "      <td>Muitos desvios</td>\n",
       "      <td>2</td>\n",
       "      <td>Abordagem completa</td>\n",
       "      <td>Nenhuma parte embrionária</td>\n",
       "      <td>Conclusão é finalizada</td>\n",
       "      <td>Não legitimado</td>\n",
       "      <td>...</td>\n",
       "      <td>Presença regular de elementos coesivos inter e...</td>\n",
       "      <td>Raras ou ausentes repetições</td>\n",
       "      <td>Sem inadequações</td>\n",
       "      <td>Não é um monobloco</td>\n",
       "      <td>3</td>\n",
       "      <td>Proposta respeita os direitos humanos</td>\n",
       "      <td>Ausência de proposta ou cópia integral de prop...</td>\n",
       "      <td>Apenas elementos nulos</td>\n",
       "      <td>Não possui estrutura condicional</td>\n",
       "      <td>0</td>\n",
       "    </tr>\n",
       "    <tr>\n",
       "      <th>1</th>\n",
       "      <td>113.html</td>\n",
       "      <td>a-cultura-do-cancelamento-nas-redes-sociais</td>\n",
       "      <td>['O ser humano como ser pensante e racional é ...</td>\n",
       "      <td>Sintaxe regular</td>\n",
       "      <td>Poucos desvios</td>\n",
       "      <td>3</td>\n",
       "      <td>Abordagem completa</td>\n",
       "      <td>Nenhuma parte embrionária</td>\n",
       "      <td>Conclusão é finalizada</td>\n",
       "      <td>Legitimado</td>\n",
       "      <td>...</td>\n",
       "      <td>Presença regular de elementos coesivos inter e...</td>\n",
       "      <td>Raras ou ausentes repetições</td>\n",
       "      <td>Poucas inadequações</td>\n",
       "      <td>Não é um monobloco</td>\n",
       "      <td>3</td>\n",
       "      <td>Proposta respeita os direitos humanos</td>\n",
       "      <td>Proposta aborda completamente o tema</td>\n",
       "      <td>3 elementos válidos</td>\n",
       "      <td>Não possui estrutura condicional</td>\n",
       "      <td>3</td>\n",
       "    </tr>\n",
       "    <tr>\n",
       "      <th>2</th>\n",
       "      <td>33.html</td>\n",
       "      <td>a-cultura-do-cancelamento-nas-redes-sociais</td>\n",
       "      <td>['A cultura do cancelamento nas redes sociais ...</td>\n",
       "      <td>Sintaxe excelente</td>\n",
       "      <td>Poucos desvios</td>\n",
       "      <td>4</td>\n",
       "      <td>Abordagem completa</td>\n",
       "      <td>Nenhuma parte embrionária</td>\n",
       "      <td>Conclusão é finalizada</td>\n",
       "      <td>Legitimado</td>\n",
       "      <td>...</td>\n",
       "      <td>Presença constante de elementos coesivos inter...</td>\n",
       "      <td>Raras ou ausentes repetições</td>\n",
       "      <td>Poucas inadequações</td>\n",
       "      <td>Não é um monobloco</td>\n",
       "      <td>4</td>\n",
       "      <td>Proposta respeita os direitos humanos</td>\n",
       "      <td>Proposta aborda completamente o tema</td>\n",
       "      <td>3 elementos válidos</td>\n",
       "      <td>Não possui estrutura condicional</td>\n",
       "      <td>3</td>\n",
       "    </tr>\n",
       "    <tr>\n",
       "      <th>3</th>\n",
       "      <td>39.html</td>\n",
       "      <td>a-cultura-do-cancelamento-nas-redes-sociais</td>\n",
       "      <td>['A internet no dias de hoje ganhou muita infl...</td>\n",
       "      <td>Sintaxe regular</td>\n",
       "      <td>Poucos desvios</td>\n",
       "      <td>3</td>\n",
       "      <td>Abordagem completa</td>\n",
       "      <td>Nenhuma parte embrionária</td>\n",
       "      <td>Conclusão é finalizada</td>\n",
       "      <td>Legitimado</td>\n",
       "      <td>...</td>\n",
       "      <td>Presença regular de elementos coesivos inter e...</td>\n",
       "      <td>Poucas repetições</td>\n",
       "      <td>Sem inadequações</td>\n",
       "      <td>Não é um monobloco</td>\n",
       "      <td>3</td>\n",
       "      <td>Proposta respeita os direitos humanos</td>\n",
       "      <td>Proposta aborda completamente o tema</td>\n",
       "      <td>3 elementos válidos</td>\n",
       "      <td>Não possui estrutura condicional</td>\n",
       "      <td>3</td>\n",
       "    </tr>\n",
       "    <tr>\n",
       "      <th>4</th>\n",
       "      <td>41.html</td>\n",
       "      <td>a-cultura-do-cancelamento-nas-redes-sociais</td>\n",
       "      <td>['São Tomás de Aquino defendeu que todas as pe...</td>\n",
       "      <td>Sintaxe excelente</td>\n",
       "      <td>Poucos desvios</td>\n",
       "      <td>4</td>\n",
       "      <td>Abordagem completa</td>\n",
       "      <td>Nenhuma parte embrionária</td>\n",
       "      <td>Conclusão é finalizada</td>\n",
       "      <td>Legitimado</td>\n",
       "      <td>...</td>\n",
       "      <td>Presença constante de elementos coesivos inter...</td>\n",
       "      <td>Raras ou ausentes repetições</td>\n",
       "      <td>Sem inadequações</td>\n",
       "      <td>Não é um monobloco</td>\n",
       "      <td>4</td>\n",
       "      <td>Proposta respeita os direitos humanos</td>\n",
       "      <td>Proposta aborda completamente o tema</td>\n",
       "      <td>4 elementos válidos</td>\n",
       "      <td>Não possui estrutura condicional</td>\n",
       "      <td>4</td>\n",
       "    </tr>\n",
       "  </tbody>\n",
       "</table>\n",
       "<p>5 rows × 28 columns</p>\n",
       "</div>"
      ],
      "text/plain": [
       "  id redação                                    id prompt  \\\n",
       "0   103.html  a-cultura-do-cancelamento-nas-redes-sociais   \n",
       "1   113.html  a-cultura-do-cancelamento-nas-redes-sociais   \n",
       "2    33.html  a-cultura-do-cancelamento-nas-redes-sociais   \n",
       "3    39.html  a-cultura-do-cancelamento-nas-redes-sociais   \n",
       "4    41.html  a-cultura-do-cancelamento-nas-redes-sociais   \n",
       "\n",
       "                                             redação            Sintaxe  \\\n",
       "0  ['Infelizmente muitos usuários anônimos, julga...    Sintaxe regular   \n",
       "1  ['O ser humano como ser pensante e racional é ...    Sintaxe regular   \n",
       "2  ['A cultura do cancelamento nas redes sociais ...  Sintaxe excelente   \n",
       "3  ['A internet no dias de hoje ganhou muita infl...    Sintaxe regular   \n",
       "4  ['São Tomás de Aquino defendeu que todas as pe...  Sintaxe excelente   \n",
       "\n",
       "          Desvios  nota                Tema                  Tipologia  \\\n",
       "0  Muitos desvios     2  Abordagem completa  Nenhuma parte embrionária   \n",
       "1  Poucos desvios     3  Abordagem completa  Nenhuma parte embrionária   \n",
       "2  Poucos desvios     4  Abordagem completa  Nenhuma parte embrionária   \n",
       "3  Poucos desvios     3  Abordagem completa  Nenhuma parte embrionária   \n",
       "4  Poucos desvios     4  Abordagem completa  Nenhuma parte embrionária   \n",
       "\n",
       "                Conclusão      Repertório  ...  \\\n",
       "0  Conclusão é finalizada  Não legitimado  ...   \n",
       "1  Conclusão é finalizada      Legitimado  ...   \n",
       "2  Conclusão é finalizada      Legitimado  ...   \n",
       "3  Conclusão é finalizada      Legitimado  ...   \n",
       "4  Conclusão é finalizada      Legitimado  ...   \n",
       "\n",
       "                                  Elementos coesivos  \\\n",
       "0  Presença regular de elementos coesivos inter e...   \n",
       "1  Presença regular de elementos coesivos inter e...   \n",
       "2  Presença constante de elementos coesivos inter...   \n",
       "3  Presença regular de elementos coesivos inter e...   \n",
       "4  Presença constante de elementos coesivos inter...   \n",
       "\n",
       "                     Repetições         Inadequações          Monobloco?  \\\n",
       "0  Raras ou ausentes repetições     Sem inadequações  Não é um monobloco   \n",
       "1  Raras ou ausentes repetições  Poucas inadequações  Não é um monobloco   \n",
       "2  Raras ou ausentes repetições  Poucas inadequações  Não é um monobloco   \n",
       "3             Poucas repetições     Sem inadequações  Não é um monobloco   \n",
       "4  Raras ou ausentes repetições     Sem inadequações  Não é um monobloco   \n",
       "\n",
       "  nota.3                       Direitos humanos  \\\n",
       "0      3  Proposta respeita os direitos humanos   \n",
       "1      3  Proposta respeita os direitos humanos   \n",
       "2      4  Proposta respeita os direitos humanos   \n",
       "3      3  Proposta respeita os direitos humanos   \n",
       "4      4  Proposta respeita os direitos humanos   \n",
       "\n",
       "                                           Aderência               Elementos  \\\n",
       "0  Ausência de proposta ou cópia integral de prop...  Apenas elementos nulos   \n",
       "1               Proposta aborda completamente o tema     3 elementos válidos   \n",
       "2               Proposta aborda completamente o tema     3 elementos válidos   \n",
       "3               Proposta aborda completamente o tema     3 elementos válidos   \n",
       "4               Proposta aborda completamente o tema     4 elementos válidos   \n",
       "\n",
       "                        Condicional nota.4  \n",
       "0  Não possui estrutura condicional      0  \n",
       "1  Não possui estrutura condicional      3  \n",
       "2  Não possui estrutura condicional      3  \n",
       "3  Não possui estrutura condicional      3  \n",
       "4  Não possui estrutura condicional      4  \n",
       "\n",
       "[5 rows x 28 columns]"
      ]
     },
     "execution_count": 3,
     "metadata": {},
     "output_type": "execute_result"
    }
   ],
   "source": [
    "dfA.head()"
   ]
  },
  {
   "cell_type": "code",
   "execution_count": 4,
   "id": "2e5cae08-4f8e-4e10-8719-021b82e18778",
   "metadata": {
    "tags": []
   },
   "outputs": [
    {
     "name": "stdout",
     "output_type": "stream",
     "text": [
      "Número de prompts: 7\n"
     ]
    }
   ],
   "source": [
    "print(f\"Número de prompts: {len(dfA['id prompt'].unique())}\")"
   ]
  },
  {
   "cell_type": "code",
   "execution_count": 5,
   "id": "d5a8247e-4832-458e-99ef-2e81cef8d050",
   "metadata": {
    "tags": []
   },
   "outputs": [
    {
     "name": "stdout",
     "output_type": "stream",
     "text": [
      "[9, 9, 9, 9, 9, 9, 9]\n"
     ]
    }
   ],
   "source": [
    "prompts = dfA['id prompt'].unique().tolist()\n",
    "count_prompts = [0]*len(prompts)\n",
    "for i, row in dfA.iterrows():\n",
    "    index = prompts.index(row['id prompt'])\n",
    "    count_prompts[index] += 1\n",
    "print(count_prompts)"
   ]
  },
  {
   "cell_type": "code",
   "execution_count": 6,
   "id": "909635fc-ff32-417a-ac0e-0ddd6ac0bcdc",
   "metadata": {
    "tags": []
   },
   "outputs": [],
   "source": [
    "import random\n",
    "\"\"\"\n",
    "random_list = set()\n",
    "while(len(set(random_list)) < 4):\n",
    "    random_list.add(random.randint(0, 7)) # Generating integers between 0 and 100\n",
    "random_list\n",
    "\"\"\"\n",
    "random_list = [0, 1, 5, 6]"
   ]
  },
  {
   "cell_type": "code",
   "execution_count": 7,
   "id": "eb73f991-3f5d-4d6c-bcfc-b9ffc2b0a772",
   "metadata": {
    "tags": []
   },
   "outputs": [
    {
     "name": "stdout",
     "output_type": "stream",
     "text": [
      "['a-cultura-do-cancelamento-nas-redes-sociais', 'a-importancia-das-vacinas-para-sociedade', 'o-suicidio-entre-os-jovens-como-resolver-esse-problema', 'o-uso-agrotoxicos-no-brasil']\n"
     ]
    }
   ],
   "source": [
    "prompts_selecionados_treinamento = []\n",
    "for i in random_list:\n",
    "    prompts_selecionados_treinamento.append( prompts[i] )\n",
    "print(prompts_selecionados_treinamento)"
   ]
  },
  {
   "cell_type": "code",
   "execution_count": 8,
   "id": "eac8979d-ea7d-4f79-b096-98954d4884f7",
   "metadata": {
    "tags": []
   },
   "outputs": [],
   "source": [
    "def selecionar_redacoes(df, prompts_selecionados):\n",
    "    empty_df_train = pd.DataFrame()\n",
    "    df_test = df.copy()\n",
    "    for p in prompts_selecionados:\n",
    "        s = df[df['id prompt'] == p]\n",
    "        empty_df_train = pd.concat([empty_df_train, s])\n",
    "        df_test = df_test[df_test['id prompt'] != p]\n",
    "    return empty_df_train, df_test\n",
    "    \n",
    "filtrado_df_A, test_df_A = selecionar_redacoes(dfA, prompts_selecionados_treinamento)\n",
    "filtrado_df_B, test_df_B = selecionar_redacoes(dfB, prompts_selecionados_treinamento)\n",
    "df_unidos = pd.concat([filtrado_df_A, filtrado_df_B])"
   ]
  },
  {
   "cell_type": "code",
   "execution_count": 9,
   "id": "bfe29cec-dd59-4c28-8a10-a9d87d44500f",
   "metadata": {
    "tags": []
   },
   "outputs": [],
   "source": [
    "filtrado_df_A.to_csv('filtrado_A_train.csv', index=False)\n",
    "filtrado_df_B.to_csv('filtrado_B_train.csv', index=False)\n",
    "df_unidos.to_csv(\"Training.csv\", index=False)"
   ]
  },
  {
   "cell_type": "code",
   "execution_count": 10,
   "id": "1f64f2ae-6982-46e1-b865-c7098c7c66e6",
   "metadata": {
    "tags": []
   },
   "outputs": [
    {
     "name": "stdout",
     "output_type": "stream",
     "text": [
      "syntax Sintaxe {'Sintaxe inexistente': 0, 'Sintaxe deficitária': 1, 'Sintaxe regular': 2, 'Sintaxe boa': 3, 'Sintaxe excelente': 4}\n",
      "mistakes Desvios {'Muitos desvios': 0, 'Alguns desvios': 1, 'Poucos desvios': 2, 'Max dois desvios': 3}\n",
      "syntax Sintaxe {'Sintaxe inexistente': 0, 'Sintaxe deficitária': 1, 'Sintaxe regular': 2, 'Sintaxe boa': 3, 'Sintaxe excelente': 4}\n",
      "mistakes Desvios {'Muitos desvios': 0, 'Alguns desvios': 1, 'Poucos desvios': 2, 'Max dois desvios': 3}\n"
     ]
    }
   ],
   "source": [
    "dic_sintax = {'Sintaxe inexistente': 0, 'Sintaxe deficitária': 1, 'Sintaxe regular':2, 'Sintaxe boa': 3, 'Sintaxe excelente': 4}\n",
    "dic_desvios = {'Muitos desvios':0, 'Alguns desvios':1, 'Poucos desvios':2, 'Max dois desvios':3}\n",
    "\n",
    "def adicionar_coluna(df, new_column, old_column, dic):\n",
    "    #print(df)\n",
    "    df[new_column] = df[old_column].map(dic)\n",
    "    \n",
    "def arrumar_dataframe(df, colunas_novas, colunas_velhas, dics, save_name):\n",
    "    for c_n, c_v, dic in zip(colunas_novas, colunas_velhas, dics):\n",
    "        print(c_n, c_v, dic)\n",
    "        #print(dataset)\n",
    "        adicionar_coluna(df, c_n, c_v, dic)\n",
    "    df.rename(columns={'redação': 'essay_text'}, inplace=True)\n",
    "    df['grades'] = df.apply(lambda row: [row['nota']*40, row['nota.1']*40, row['nota.2']*40, row['nota.3']*40, row['nota.4']*40], axis=1)\n",
    "    df.to_csv(save_name, index=False)\n",
    "\n",
    "colunas_novas = ['syntax', 'mistakes']\n",
    "colunas_velhas = ['Sintaxe', 'Desvios']\n",
    "dics = [dic_sintax, dic_desvios]\n",
    "dfs = [filtrado_df_A, test_df_A]\n",
    "nomes = ['Training-C1-A.csv', 'Test-C1-A.csv']\n",
    "\n",
    "for df, nome in zip(dfs, nomes):\n",
    "    arrumar_dataframe(df, colunas_novas, colunas_velhas, dics, nome)"
   ]
  },
  {
   "cell_type": "code",
   "execution_count": null,
   "id": "4b86682f-89ce-4908-8705-fcf82ca95bad",
   "metadata": {},
   "outputs": [],
   "source": []
  }
 ],
 "metadata": {
  "kernelspec": {
   "display_name": "Python 3 (ipykernel)",
   "language": "python",
   "name": "python3"
  },
  "language_info": {
   "codemirror_mode": {
    "name": "ipython",
    "version": 3
   },
   "file_extension": ".py",
   "mimetype": "text/x-python",
   "name": "python",
   "nbconvert_exporter": "python",
   "pygments_lexer": "ipython3",
   "version": "3.9.19"
  }
 },
 "nbformat": 4,
 "nbformat_minor": 5
}
